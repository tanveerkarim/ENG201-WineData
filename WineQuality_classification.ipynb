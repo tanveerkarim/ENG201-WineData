{
 "cells": [
  {
   "cell_type": "code",
   "execution_count": 1,
   "metadata": {},
   "outputs": [],
   "source": [
    "import numpy as np\n",
    "import matplotlib.pyplot as plt\n",
    "import pandas as pd\n",
    "\n",
    "from sklearn import svm\n",
    "from sklearn.model_selection import train_test_split\n",
    "from sklearn.linear_model import LogisticRegression\n",
    "from sklearn.metrics import accuracy_score\n",
    "from sklearn.linear_model import LogisticRegressionCV\n",
    "from sklearn.metrics import confusion_matrix\n",
    "\n",
    "import seaborn as sns\n",
    "\n",
    "import mglearn\n"
   ]
  },
  {
   "cell_type": "code",
   "execution_count": 2,
   "metadata": {},
   "outputs": [
    {
     "name": "stdout",
     "output_type": "stream",
     "text": [
      "Data dim: (5295, 15)\n"
     ]
    },
    {
     "data": {
      "text/html": [
       "<div>\n",
       "<style scoped>\n",
       "    .dataframe tbody tr th:only-of-type {\n",
       "        vertical-align: middle;\n",
       "    }\n",
       "\n",
       "    .dataframe tbody tr th {\n",
       "        vertical-align: top;\n",
       "    }\n",
       "\n",
       "    .dataframe thead th {\n",
       "        text-align: right;\n",
       "    }\n",
       "</style>\n",
       "<table border=\"1\" class=\"dataframe\">\n",
       "  <thead>\n",
       "    <tr style=\"text-align: right;\">\n",
       "      <th></th>\n",
       "      <th>Unnamed: 0</th>\n",
       "      <th>type</th>\n",
       "      <th>fixed acidity</th>\n",
       "      <th>volatile acidity</th>\n",
       "      <th>citric acid</th>\n",
       "      <th>residual sugar</th>\n",
       "      <th>chlorides</th>\n",
       "      <th>free sulfur dioxide</th>\n",
       "      <th>total sulfur dioxide</th>\n",
       "      <th>density</th>\n",
       "      <th>pH</th>\n",
       "      <th>sulphates</th>\n",
       "      <th>alcohol</th>\n",
       "      <th>quality</th>\n",
       "      <th>logit_score</th>\n",
       "    </tr>\n",
       "  </thead>\n",
       "  <tbody>\n",
       "    <tr>\n",
       "      <th>0</th>\n",
       "      <td>0</td>\n",
       "      <td>white</td>\n",
       "      <td>7.0</td>\n",
       "      <td>0.27</td>\n",
       "      <td>0.36</td>\n",
       "      <td>20.7</td>\n",
       "      <td>0.045</td>\n",
       "      <td>45.0</td>\n",
       "      <td>170.0</td>\n",
       "      <td>1.0010</td>\n",
       "      <td>3.00</td>\n",
       "      <td>0.45</td>\n",
       "      <td>8.8</td>\n",
       "      <td>6</td>\n",
       "      <td>0</td>\n",
       "    </tr>\n",
       "    <tr>\n",
       "      <th>1</th>\n",
       "      <td>1</td>\n",
       "      <td>white</td>\n",
       "      <td>6.3</td>\n",
       "      <td>0.30</td>\n",
       "      <td>0.34</td>\n",
       "      <td>1.6</td>\n",
       "      <td>0.049</td>\n",
       "      <td>14.0</td>\n",
       "      <td>132.0</td>\n",
       "      <td>0.9940</td>\n",
       "      <td>3.30</td>\n",
       "      <td>0.49</td>\n",
       "      <td>9.5</td>\n",
       "      <td>6</td>\n",
       "      <td>0</td>\n",
       "    </tr>\n",
       "    <tr>\n",
       "      <th>2</th>\n",
       "      <td>2</td>\n",
       "      <td>white</td>\n",
       "      <td>8.1</td>\n",
       "      <td>0.28</td>\n",
       "      <td>0.40</td>\n",
       "      <td>6.9</td>\n",
       "      <td>0.050</td>\n",
       "      <td>30.0</td>\n",
       "      <td>97.0</td>\n",
       "      <td>0.9951</td>\n",
       "      <td>3.26</td>\n",
       "      <td>0.44</td>\n",
       "      <td>10.1</td>\n",
       "      <td>6</td>\n",
       "      <td>0</td>\n",
       "    </tr>\n",
       "    <tr>\n",
       "      <th>3</th>\n",
       "      <td>3</td>\n",
       "      <td>white</td>\n",
       "      <td>7.2</td>\n",
       "      <td>0.23</td>\n",
       "      <td>0.32</td>\n",
       "      <td>8.5</td>\n",
       "      <td>0.058</td>\n",
       "      <td>47.0</td>\n",
       "      <td>186.0</td>\n",
       "      <td>0.9956</td>\n",
       "      <td>3.19</td>\n",
       "      <td>0.40</td>\n",
       "      <td>9.9</td>\n",
       "      <td>6</td>\n",
       "      <td>0</td>\n",
       "    </tr>\n",
       "    <tr>\n",
       "      <th>4</th>\n",
       "      <td>6</td>\n",
       "      <td>white</td>\n",
       "      <td>6.2</td>\n",
       "      <td>0.32</td>\n",
       "      <td>0.16</td>\n",
       "      <td>7.0</td>\n",
       "      <td>0.045</td>\n",
       "      <td>30.0</td>\n",
       "      <td>136.0</td>\n",
       "      <td>0.9949</td>\n",
       "      <td>3.18</td>\n",
       "      <td>0.47</td>\n",
       "      <td>9.6</td>\n",
       "      <td>6</td>\n",
       "      <td>0</td>\n",
       "    </tr>\n",
       "  </tbody>\n",
       "</table>\n",
       "</div>"
      ],
      "text/plain": [
       "   Unnamed: 0   type  fixed acidity  volatile acidity  citric acid  \\\n",
       "0           0  white            7.0              0.27         0.36   \n",
       "1           1  white            6.3              0.30         0.34   \n",
       "2           2  white            8.1              0.28         0.40   \n",
       "3           3  white            7.2              0.23         0.32   \n",
       "4           6  white            6.2              0.32         0.16   \n",
       "\n",
       "   residual sugar  chlorides  free sulfur dioxide  total sulfur dioxide  \\\n",
       "0            20.7      0.045                 45.0                 170.0   \n",
       "1             1.6      0.049                 14.0                 132.0   \n",
       "2             6.9      0.050                 30.0                  97.0   \n",
       "3             8.5      0.058                 47.0                 186.0   \n",
       "4             7.0      0.045                 30.0                 136.0   \n",
       "\n",
       "   density    pH  sulphates  alcohol  quality  logit_score  \n",
       "0   1.0010  3.00       0.45      8.8        6            0  \n",
       "1   0.9940  3.30       0.49      9.5        6            0  \n",
       "2   0.9951  3.26       0.44     10.1        6            0  \n",
       "3   0.9956  3.19       0.40      9.9        6            0  \n",
       "4   0.9949  3.18       0.47      9.6        6            0  "
      ]
     },
     "execution_count": 2,
     "metadata": {},
     "output_type": "execute_result"
    }
   ],
   "source": [
    "#wine_q = pd.read_csv(\"wine-quality_preprocessed.csv\")\n",
    "wine_q = pd.read_csv(\"wine-quality_preprocessed_fulldata.csv\")\n",
    "print(\"Data dim:\",wine_q.shape)\n",
    "wine_q.head()\n"
   ]
  },
  {
   "cell_type": "code",
   "execution_count": 3,
   "metadata": {},
   "outputs": [
    {
     "name": "stdout",
     "output_type": "stream",
     "text": [
      "Train Dim: (4236, 11)\n",
      "Test Dim: (1059, 11)\n"
     ]
    }
   ],
   "source": [
    "#split data train-test, balance based on logit_score\n",
    "X= wine_q[wine_q.columns.difference(['logit_score','type','quality','Unnamed: 0'])]\n",
    "y = wine_q.logit_score\n",
    "X_train, X_test, y_train, y_test =     train_test_split(X, y, test_size=0.20, random_state=42, stratify= wine_q.logit_score)\n",
    "print(\"Train Dim:\",X_train.shape)\n",
    "print(\"Test Dim:\",X_test.shape)"
   ]
  },
  {
   "cell_type": "code",
   "execution_count": 4,
   "metadata": {},
   "outputs": [
    {
     "data": {
      "text/html": [
       "<div>\n",
       "<style scoped>\n",
       "    .dataframe tbody tr th:only-of-type {\n",
       "        vertical-align: middle;\n",
       "    }\n",
       "\n",
       "    .dataframe tbody tr th {\n",
       "        vertical-align: top;\n",
       "    }\n",
       "\n",
       "    .dataframe thead th {\n",
       "        text-align: right;\n",
       "    }\n",
       "</style>\n",
       "<table border=\"1\" class=\"dataframe\">\n",
       "  <thead>\n",
       "    <tr style=\"text-align: right;\">\n",
       "      <th></th>\n",
       "      <th>alcohol</th>\n",
       "      <th>chlorides</th>\n",
       "      <th>citric acid</th>\n",
       "      <th>density</th>\n",
       "      <th>fixed acidity</th>\n",
       "      <th>free sulfur dioxide</th>\n",
       "      <th>pH</th>\n",
       "      <th>residual sugar</th>\n",
       "      <th>sulphates</th>\n",
       "      <th>total sulfur dioxide</th>\n",
       "      <th>volatile acidity</th>\n",
       "    </tr>\n",
       "  </thead>\n",
       "  <tbody>\n",
       "    <tr>\n",
       "      <th>0</th>\n",
       "      <td>8.8</td>\n",
       "      <td>0.045</td>\n",
       "      <td>0.36</td>\n",
       "      <td>1.0010</td>\n",
       "      <td>7.0</td>\n",
       "      <td>45.0</td>\n",
       "      <td>3.00</td>\n",
       "      <td>20.7</td>\n",
       "      <td>0.45</td>\n",
       "      <td>170.0</td>\n",
       "      <td>0.27</td>\n",
       "    </tr>\n",
       "    <tr>\n",
       "      <th>1</th>\n",
       "      <td>9.5</td>\n",
       "      <td>0.049</td>\n",
       "      <td>0.34</td>\n",
       "      <td>0.9940</td>\n",
       "      <td>6.3</td>\n",
       "      <td>14.0</td>\n",
       "      <td>3.30</td>\n",
       "      <td>1.6</td>\n",
       "      <td>0.49</td>\n",
       "      <td>132.0</td>\n",
       "      <td>0.30</td>\n",
       "    </tr>\n",
       "    <tr>\n",
       "      <th>2</th>\n",
       "      <td>10.1</td>\n",
       "      <td>0.050</td>\n",
       "      <td>0.40</td>\n",
       "      <td>0.9951</td>\n",
       "      <td>8.1</td>\n",
       "      <td>30.0</td>\n",
       "      <td>3.26</td>\n",
       "      <td>6.9</td>\n",
       "      <td>0.44</td>\n",
       "      <td>97.0</td>\n",
       "      <td>0.28</td>\n",
       "    </tr>\n",
       "    <tr>\n",
       "      <th>3</th>\n",
       "      <td>9.9</td>\n",
       "      <td>0.058</td>\n",
       "      <td>0.32</td>\n",
       "      <td>0.9956</td>\n",
       "      <td>7.2</td>\n",
       "      <td>47.0</td>\n",
       "      <td>3.19</td>\n",
       "      <td>8.5</td>\n",
       "      <td>0.40</td>\n",
       "      <td>186.0</td>\n",
       "      <td>0.23</td>\n",
       "    </tr>\n",
       "    <tr>\n",
       "      <th>4</th>\n",
       "      <td>9.6</td>\n",
       "      <td>0.045</td>\n",
       "      <td>0.16</td>\n",
       "      <td>0.9949</td>\n",
       "      <td>6.2</td>\n",
       "      <td>30.0</td>\n",
       "      <td>3.18</td>\n",
       "      <td>7.0</td>\n",
       "      <td>0.47</td>\n",
       "      <td>136.0</td>\n",
       "      <td>0.32</td>\n",
       "    </tr>\n",
       "  </tbody>\n",
       "</table>\n",
       "</div>"
      ],
      "text/plain": [
       "   alcohol  chlorides  citric acid  density  fixed acidity  \\\n",
       "0      8.8      0.045         0.36   1.0010            7.0   \n",
       "1      9.5      0.049         0.34   0.9940            6.3   \n",
       "2     10.1      0.050         0.40   0.9951            8.1   \n",
       "3      9.9      0.058         0.32   0.9956            7.2   \n",
       "4      9.6      0.045         0.16   0.9949            6.2   \n",
       "\n",
       "   free sulfur dioxide    pH  residual sugar  sulphates  total sulfur dioxide  \\\n",
       "0                 45.0  3.00            20.7       0.45                 170.0   \n",
       "1                 14.0  3.30             1.6       0.49                 132.0   \n",
       "2                 30.0  3.26             6.9       0.44                  97.0   \n",
       "3                 47.0  3.19             8.5       0.40                 186.0   \n",
       "4                 30.0  3.18             7.0       0.47                 136.0   \n",
       "\n",
       "   volatile acidity  \n",
       "0              0.27  \n",
       "1              0.30  \n",
       "2              0.28  \n",
       "3              0.23  \n",
       "4              0.32  "
      ]
     },
     "execution_count": 4,
     "metadata": {},
     "output_type": "execute_result"
    }
   ],
   "source": [
    "X.head()"
   ]
  },
  {
   "cell_type": "code",
   "execution_count": 5,
   "metadata": {},
   "outputs": [
    {
     "name": "stdout",
     "output_type": "stream",
     "text": [
      "Percentage of Good Wines: 18.980169971671387 %\n",
      "Percentage of Bad Wines: 81.01983002832861 %\n"
     ]
    }
   ],
   "source": [
    "print(\"Percentage of Good Wines:\",np.sum(y_test)/y_test.shape[0]*100,\"%\")\n",
    "print(\"Percentage of Bad Wines:\",np.count_nonzero(y_test==0)/y_test.shape[0]*100,\"%\")\n"
   ]
  },
  {
   "cell_type": "code",
   "execution_count": 6,
   "metadata": {},
   "outputs": [],
   "source": [
    "def correlation_plot(data):\n",
    "    corr=data.corr()\n",
    "    fig = plt.figure()\n",
    "    ax = fig.add_subplot(111)\n",
    "    cax = ax.matshow(corr,cmap='coolwarm', vmin=-1, vmax=1)\n",
    "    fig.colorbar(cax)\n",
    "    ticks = np.arange(0,len(data.columns),1)\n",
    "    ax.set_xticks(ticks)\n",
    "    plt.xticks(rotation=90)\n",
    "    ax.set_yticks(ticks)\n",
    "    ax.set_xticklabels(data.columns)\n",
    "    ax.set_yticklabels(data.columns)\n",
    "    plt.show()\n",
    "    return corr"
   ]
  },
  {
   "cell_type": "code",
   "execution_count": 7,
   "metadata": {},
   "outputs": [
    {
     "data": {
      "image/png": "[encoded data removed]",
      "text/plain": [
       "<Figure size 432x288 with 2 Axes>"
      ]
     },
     "metadata": {
      "needs_background": "light"
     },
     "output_type": "display_data"
    }
   ],
   "source": [
    "corr = correlation_plot(X)"
   ]
  },
  {
   "cell_type": "code",
   "execution_count": 8,
   "metadata": {},
   "outputs": [
    {
     "data": {
      "image/png": "[encoded data removed]",
      "text/plain": [
       "<Figure size 432x288 with 2 Axes>"
      ]
     },
     "metadata": {
      "needs_background": "light"
     },
     "output_type": "display_data"
    }
   ],
   "source": [
    "# plot the heatmap\n",
    "tmp=sns.heatmap(corr, \n",
    "        xticklabels=corr.columns,\n",
    "        yticklabels=corr.columns)\n"
   ]
  },
  {
   "cell_type": "code",
   "execution_count": 9,
   "metadata": {},
   "outputs": [
    {
     "name": "stdout",
     "output_type": "stream",
     "text": [
      "Logistic Regression Acc: 82.05854579792256 %\n",
      "Predictor Coefficients:\n",
      " [[ 0.8898542  -1.73497466  0.32888556 -4.5567554  -0.0797713   0.02057504\n",
      "  -0.4070547   0.00977405  1.54009237 -0.00703086 -2.93345602]]\n",
      "\n",
      "TN FP\n",
      "\n",
      "FN TP\n",
      "Confusion Matrix:\n",
      " [[826  32]\n",
      " [158  43]]\n"
     ]
    }
   ],
   "source": [
    "#Logistic Regression Model\n",
    "model_lr = LogisticRegression(random_state=42, solver='liblinear', multi_class='ovr')\n",
    "model_lr.fit(X_train, y_train)\n",
    "\n",
    "y_pred = model_lr.predict(X_test)\n",
    "acc = accuracy_score(y_test, y_pred)\n",
    "print(\"Logistic Regression Acc:\",acc*100,\"%\")\n",
    "\n",
    "print(\"Predictor Coefficients:\\n\",model_lr.coef_)\n",
    "\n",
    "print(\"\\nTN\",\"FP\\n\")\n",
    "print(\"FN\",\"TP\")\n",
    "print(\"Confusion Matrix:\\n\",confusion_matrix(y_test, y_pred, labels=None, sample_weight=None))"
   ]
  },
  {
   "cell_type": "code",
   "execution_count": 10,
   "metadata": {},
   "outputs": [
    {
     "data": {
      "image/png": "[encoded data removed]",
      "text/plain": [
       "<Figure size 1080x360 with 1 Axes>"
      ]
     },
     "metadata": {
      "needs_background": "light"
     },
     "output_type": "display_data"
    }
   ],
   "source": [
    "feature_names =X.columns.tolist()\n",
    "mglearn.tools.visualize_coefficients(model_lr.coef_, feature_names,n_top_features=6)\n",
    "plt.savefig(\"wine_quality_coeff.png\", dpi = 250, bbox_inches = 'tight')"
   ]
  },
  {
   "cell_type": "code",
   "execution_count": 11,
   "metadata": {},
   "outputs": [
    {
     "name": "stdout",
     "output_type": "stream",
     "text": [
      "Logistic Regression w. CV Acc: 82.43626062322946 %\n",
      "Confusion Matrix:\n",
      " [[824  34]\n",
      " [152  49]]\n"
     ]
    }
   ],
   "source": [
    "#Logistic Regression with Cross Validation\n",
    "model_lr_cv = LogisticRegressionCV(cv=5, random_state=42, solver='liblinear',multi_class='ovr')\n",
    "model_lr_cv.fit(X_train, y_train)\n",
    "\n",
    "y_pred = model_lr_cv.predict(X_test)\n",
    "acc = accuracy_score(y_test, y_pred)\n",
    "\n",
    "print(\"Logistic Regression w. CV Acc:\",acc*100,\"%\")\n",
    "print(\"Confusion Matrix:\\n\",confusion_matrix(y_test, y_pred, labels=None, sample_weight=None))"
   ]
  },
  {
   "cell_type": "markdown",
   "metadata": {},
   "source": [
    "# Visualization Repo\n",
    "https://github.com/amueller/mglearn/blob/master/mglearn/tools.py\n",
    "\n"
   ]
  },
  {
   "cell_type": "code",
   "execution_count": 12,
   "metadata": {},
   "outputs": [
    {
     "data": {
      "image/png": "[encoded data removed]",
      "text/plain": [
       "<Figure size 1080x360 with 1 Axes>"
      ]
     },
     "metadata": {
      "needs_background": "light"
     },
     "output_type": "display_data"
    }
   ],
   "source": [
    "feature_names =X.columns.tolist()\n",
    "mglearn.tools.visualize_coefficients(model_lr_cv.coef_, feature_names,n_top_features=6)\n",
    "#plt.savefig(\"wine_quality_coeff_lr_cv.png\", dpi = 250, bbox_inches = 'tight')"
   ]
  },
  {
   "cell_type": "code",
   "execution_count": 28,
   "metadata": {},
   "outputs": [
    {
     "name": "stdout",
     "output_type": "stream",
     "text": [
      "SVM Acc: 81.49197355996223 %\n",
      "Confusion Matrix:\n",
      " [[852   6]\n",
      " [190  11]]\n"
     ]
    },
    {
     "name": "stderr",
     "output_type": "stream",
     "text": [
      "/usr/share/anaconda3/lib/python3.6/site-packages/sklearn/svm/base.py:931: ConvergenceWarning: Liblinear failed to converge, increase the number of iterations.\n",
      "  \"the number of iterations.\", ConvergenceWarning)\n"
     ]
    }
   ],
   "source": [
    "#SVM\n",
    "model_svm = svm.LinearSVC(multi_class='ovr', penalty='l2',C=1, random_state=42,max_iter=5000)\n",
    "model_svm.fit(X_train,y_train)\n",
    "\n",
    "y_pred = model_svm.predict(X_test)\n",
    "acc = accuracy_score(y_test, y_pred)\n",
    "print(\"SVM Acc:\",acc*100,\"%\")\n",
    "print(\"Confusion Matrix:\\n\",confusion_matrix(y_test, y_pred, labels=None, sample_weight=None))"
   ]
  }
 ],
 "metadata": {
  "kernelspec": {
   "display_name": "Python 3",
   "language": "python",
   "name": "python3"
  },
  "language_info": {
   "codemirror_mode": {
    "name": "ipython",
    "version": 3
   },
   "file_extension": ".py",
   "mimetype": "text/x-python",
   "name": "python",
   "nbconvert_exporter": "python",
   "pygments_lexer": "ipython3",
   "version": "3.6.8"
  }
 },
 "nbformat": 4,
 "nbformat_minor": 2
}
